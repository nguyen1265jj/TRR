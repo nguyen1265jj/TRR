{
 "cells": [
  {
   "cell_type": "code",
   "execution_count": 1,
   "metadata": {},
   "outputs": [
    {
     "data": {
      "text/latex": [
       "$\\displaystyle x^{2} + 2 x y + y^{2}$"
      ],
      "text/plain": [
       "x**2 + 2*x*y + y**2"
      ]
     },
     "execution_count": 1,
     "metadata": {},
     "output_type": "execute_result"
    }
   ],
   "source": [
    "from sympy import *\n",
    "x , y = symbols('x , y')\n",
    "((x+y)**2).expand()"
   ]
  },
  {
   "cell_type": "code",
   "execution_count": 10,
   "metadata": {},
   "outputs": [
    {
     "data": {
      "text/latex": [
       "$\\displaystyle \\begin{cases} 2^{n} & \\text{for}\\: \\left(\\operatorname{re}{\\left(n\\right)} \\leq 0 \\wedge \\operatorname{re}{\\left(n\\right)} > -1\\right) \\vee \\operatorname{re}{\\left(n\\right)} > 0 \\\\\\sum_{r=0}^{n} {\\binom{n}{r}} & \\text{otherwise} \\end{cases}$"
      ],
      "text/plain": [
       "Piecewise((2**n, (re(n) > 0) | ((re(n) <= 0) & (re(n) > -1))), (Sum(binomial(n, r), (r, 0, n)), True))"
      ]
     },
     "execution_count": 10,
     "metadata": {},
     "output_type": "execute_result"
    }
   ],
   "source": [
    "from sympy import *\n",
    "n , r = symbols ('n ,r')\n",
    "Sum ( binomial (n , r ) , (r , 0 , n ) ) . doit ()\n"
   ]
  },
  {
   "cell_type": "code",
   "execution_count": 1,
   "metadata": {},
   "outputs": [
    {
     "data": {
      "text/latex": [
       "$\\displaystyle {\\binom{n}{r}}$"
      ],
      "text/plain": [
       "binomial(n, r)"
      ]
     },
     "execution_count": 1,
     "metadata": {},
     "output_type": "execute_result"
    }
   ],
   "source": [
    "from sympy import *\n",
    "n , r = symbols('n , r')\n",
    "(binomial(n,r)).expand()"
   ]
  },
  {
   "cell_type": "code",
   "execution_count": 3,
   "metadata": {},
   "outputs": [
    {
     "name": "stdout",
     "output_type": "stream",
     "text": [
      "(1, 2, 3, 4)\n",
      "(1, 2, 4, 3)\n",
      "(1, 3, 2, 4)\n",
      "(1, 3, 4, 2)\n",
      "(1, 4, 2, 3)\n",
      "(1, 4, 3, 2)\n",
      "(2, 1, 3, 4)\n",
      "(2, 1, 4, 3)\n",
      "(2, 3, 1, 4)\n",
      "(2, 3, 4, 1)\n",
      "(2, 4, 1, 3)\n",
      "(2, 4, 3, 1)\n",
      "(3, 1, 2, 4)\n",
      "(3, 1, 4, 2)\n",
      "(3, 2, 1, 4)\n",
      "(3, 2, 4, 1)\n",
      "(3, 4, 1, 2)\n",
      "(3, 4, 2, 1)\n",
      "(4, 1, 2, 3)\n",
      "(4, 1, 3, 2)\n",
      "(4, 2, 1, 3)\n",
      "(4, 2, 3, 1)\n",
      "(4, 3, 1, 2)\n",
      "(4, 3, 2, 1)\n"
     ]
    }
   ],
   "source": [
    "# in ra cac hoan vi theo thu tu tu dien\n",
    "from itertools import permutations\n",
    "element = {1, 2, 3, 4}\n",
    "\n",
    "all_permutations = list(permutations(element))\n",
    "\n",
    "for a in all_permutations:\n",
    "    print(a)"
   ]
  },
  {
   "cell_type": "code",
   "execution_count": 5,
   "metadata": {},
   "outputs": [
    {
     "name": "stdout",
     "output_type": "stream",
     "text": [
      "[1, 2, 3]\n",
      "[1, 2, 4]\n",
      "[1, 3, 2]\n",
      "[1, 3, 4]\n",
      "[1, 4, 2]\n",
      "[1, 4, 3]\n",
      "[2, 1, 3]\n",
      "[2, 1, 4]\n",
      "[2, 3, 1]\n",
      "[2, 3, 4]\n",
      "[2, 4, 1]\n",
      "[2, 4, 3]\n",
      "[3, 1, 2]\n",
      "[3, 1, 4]\n",
      "[3, 2, 1]\n",
      "[3, 2, 4]\n",
      "[3, 4, 1]\n",
      "[3, 4, 2]\n",
      "[4, 1, 2]\n",
      "[4, 1, 3]\n",
      "[4, 2, 1]\n",
      "[4, 2, 3]\n",
      "[4, 3, 1]\n",
      "[4, 3, 2]\n"
     ]
    }
   ],
   "source": [
    "# Liet ke chinh hop\n",
    "def chinh_hop_chap_k(tap, k, current=[]):\n",
    "    if k == 0:\n",
    "        print(current)\n",
    "        return\n",
    "    for i in range(len(tap)):\n",
    "        remaining_elements = tap[:i] + tap[i+1:]\n",
    "        chinh_hop_chap_k(remaining_elements, k-1, current + [tap[i]])\n",
    "\n",
    "# Ví dụ: Liệt kê tất cả các chỉnh hợp chập 3 của tập {1, 2, 3, 4}\n",
    "tap = [1, 2, 3, 4]\n",
    "k = 3\n",
    "chinh_hop_chap_k(tap, k)\n"
   ]
  },
  {
   "cell_type": "code",
   "execution_count": 7,
   "metadata": {},
   "outputs": [
    {
     "name": "stdout",
     "output_type": "stream",
     "text": [
      "[1, 2, 3]\n",
      "[1, 2, 4]\n",
      "[1, 2, 5]\n",
      "[1, 3, 4]\n",
      "[1, 3, 5]\n",
      "[1, 4, 5]\n",
      "[2, 3, 4]\n",
      "[2, 3, 5]\n",
      "[2, 4, 5]\n",
      "[3, 4, 5]\n"
     ]
    }
   ],
   "source": [
    "#Liet ke to hop\n",
    "from itertools import combinations\n",
    "\n",
    "def liet_ke_to_hop_vong_lap(tap , k):\n",
    "    for to_hop in combinations(tap,k):\n",
    "        print(list(to_hop))\n",
    "\n",
    "tap = {1, 2, 3, 4, 5}\n",
    "k = 3\n",
    "liet_ke_to_hop_vong_lap(tap,k)"
   ]
  },
  {
   "cell_type": "code",
   "execution_count": 21,
   "metadata": {},
   "outputs": [
    {
     "name": "stdout",
     "output_type": "stream",
     "text": [
      "['C', 'C']\n",
      "['C', 'O']\n",
      "['C', 'O']\n",
      "['C', 'L']\n",
      "['O', 'C']\n",
      "['O', 'O']\n",
      "['O', 'O']\n",
      "['O', 'L']\n",
      "['O', 'C']\n",
      "['O', 'O']\n",
      "['O', 'O']\n",
      "['O', 'L']\n",
      "['L', 'C']\n",
      "['L', 'O']\n",
      "['L', 'O']\n",
      "['L', 'L']\n"
     ]
    }
   ],
   "source": [
    "def liet_ke_hoan_vi_lap(tap, k, current=[]):\n",
    "    if k == 0:\n",
    "        print(current)\n",
    "        return\n",
    "    for i in range(len(tap)):\n",
    "        liet_ke_hoan_vi_lap(tap, k-1, current + [tap[i]])\n",
    "\n",
    "# Ví dụ: Liệt kê tất cả các hoán vị lặp chập k của {1, 2, 3} với k = 2\n",
    "tap = ['C','O','O','L']\n",
    "k = 2\n",
    "liet_ke_hoan_vi_lap(tap, k)\n"
   ]
  },
  {
   "cell_type": "code",
   "execution_count": 8,
   "metadata": {},
   "outputs": [
    {
     "name": "stdout",
     "output_type": "stream",
     "text": [
      "Từ hoán vị thứ 10 của 'COOL' theo thứ tự từ điển là: CCOC\n"
     ]
    }
   ],
   "source": [
    "from itertools import product\n",
    "\n",
    "word = \"COOL\"\n",
    "permutations_list = list(product(word, repeat=len(word)))\n",
    "\n",
    "# Sắp xếp theo thứ tự từ điển\n",
    "permutations_list.sort()\n",
    "\n",
    "# Lấy từ hoán vị thứ 10 (vị trí 9 trong danh sách vì index bắt đầu từ 0)\n",
    "word_10th_permutation = ''.join(permutations_list[9])\n",
    "\n",
    "print(f\"Từ hoán vị thứ 10 của 'COOL' theo thứ tự từ điển là: {word_10th_permutation}\")\n"
   ]
  },
  {
   "cell_type": "code",
   "execution_count": 3,
   "metadata": {},
   "outputs": [
    {
     "name": "stdout",
     "output_type": "stream",
     "text": [
      "('A', 'A', 'A', 'A')\n",
      "('A', 'A', 'A', 'B')\n",
      "('A', 'A', 'A', 'C')\n",
      "('A', 'A', 'B', 'A')\n",
      "('A', 'A', 'B', 'B')\n",
      "('A', 'A', 'B', 'C')\n",
      "('A', 'A', 'C', 'A')\n",
      "('A', 'A', 'C', 'B')\n",
      "('A', 'A', 'C', 'C')\n",
      "('A', 'B', 'A', 'A')\n",
      "('A', 'B', 'A', 'B')\n",
      "('A', 'B', 'A', 'C')\n",
      "('A', 'B', 'B', 'A')\n",
      "('A', 'B', 'B', 'B')\n",
      "('A', 'B', 'B', 'C')\n",
      "('A', 'B', 'C', 'A')\n",
      "('A', 'B', 'C', 'B')\n",
      "('A', 'B', 'C', 'C')\n",
      "('A', 'C', 'A', 'A')\n",
      "('A', 'C', 'A', 'B')\n",
      "('A', 'C', 'A', 'C')\n",
      "('A', 'C', 'B', 'A')\n",
      "('A', 'C', 'B', 'B')\n",
      "('A', 'C', 'B', 'C')\n",
      "('A', 'C', 'C', 'A')\n",
      "('A', 'C', 'C', 'B')\n",
      "('A', 'C', 'C', 'C')\n",
      "('B', 'A', 'A', 'A')\n",
      "('B', 'A', 'A', 'B')\n",
      "('B', 'A', 'A', 'C')\n",
      "('B', 'A', 'B', 'A')\n",
      "('B', 'A', 'B', 'B')\n",
      "('B', 'A', 'B', 'C')\n",
      "('B', 'A', 'C', 'A')\n",
      "('B', 'A', 'C', 'B')\n",
      "('B', 'A', 'C', 'C')\n",
      "('B', 'B', 'A', 'A')\n",
      "('B', 'B', 'A', 'B')\n",
      "('B', 'B', 'A', 'C')\n",
      "('B', 'B', 'B', 'A')\n",
      "('B', 'B', 'B', 'B')\n",
      "('B', 'B', 'B', 'C')\n",
      "('B', 'B', 'C', 'A')\n",
      "('B', 'B', 'C', 'B')\n",
      "('B', 'B', 'C', 'C')\n",
      "('B', 'C', 'A', 'A')\n",
      "('B', 'C', 'A', 'B')\n",
      "('B', 'C', 'A', 'C')\n",
      "('B', 'C', 'B', 'A')\n",
      "('B', 'C', 'B', 'B')\n",
      "('B', 'C', 'B', 'C')\n",
      "('B', 'C', 'C', 'A')\n",
      "('B', 'C', 'C', 'B')\n",
      "('B', 'C', 'C', 'C')\n",
      "('C', 'A', 'A', 'A')\n",
      "('C', 'A', 'A', 'B')\n",
      "('C', 'A', 'A', 'C')\n",
      "('C', 'A', 'B', 'A')\n",
      "('C', 'A', 'B', 'B')\n",
      "('C', 'A', 'B', 'C')\n",
      "('C', 'A', 'C', 'A')\n",
      "('C', 'A', 'C', 'B')\n",
      "('C', 'A', 'C', 'C')\n",
      "('C', 'B', 'A', 'A')\n",
      "('C', 'B', 'A', 'B')\n",
      "('C', 'B', 'A', 'C')\n",
      "('C', 'B', 'B', 'A')\n",
      "('C', 'B', 'B', 'B')\n",
      "('C', 'B', 'B', 'C')\n",
      "('C', 'B', 'C', 'A')\n",
      "('C', 'B', 'C', 'B')\n",
      "('C', 'B', 'C', 'C')\n",
      "('C', 'C', 'A', 'A')\n",
      "('C', 'C', 'A', 'B')\n",
      "('C', 'C', 'A', 'C')\n",
      "('C', 'C', 'B', 'A')\n",
      "('C', 'C', 'B', 'B')\n",
      "('C', 'C', 'B', 'C')\n",
      "('C', 'C', 'C', 'A')\n",
      "('C', 'C', 'C', 'B')\n",
      "('C', 'C', 'C', 'C')\n",
      "Cách chọn thứ 5 từ các cách chọn 4 vật có lặp từ A, B, C là: ('A', 'A', 'B', 'C')\n"
     ]
    }
   ],
   "source": [
    "from itertools import product\n",
    "\n",
    "# Tập hợp các vật\n",
    "vat = ['A', 'B', 'C']\n",
    "\n",
    "# Số lượng vật cần chọn\n",
    "k = 4\n",
    "\n",
    "# Tạo tất cả các tổ hợp lặp\n",
    "cac_to_hop_lap = list(product(vat, repeat=k))\n",
    "\n",
    "# Sắp xếp theo thứ tự từ điển\n",
    "cac_to_hop_lap.sort()\n",
    "\n",
    "for element in cac_to_hop_lap:\n",
    "    print(element)\n",
    "\n",
    "# In ra cách chọn thứ 5\n",
    "cach_chon_thu_5 = cac_to_hop_lap[5]\n",
    "\n",
    "print(f\"Cách chọn thứ 5 từ các cách chọn 4 vật có lặp từ A, B, C là: {cach_chon_thu_5}\")\n"
   ]
  },
  {
   "cell_type": "code",
   "execution_count": null,
   "metadata": {},
   "outputs": [],
   "source": []
  }
 ],
 "metadata": {
  "kernelspec": {
   "display_name": "Python 3",
   "language": "python",
   "name": "python3"
  },
  "language_info": {
   "codemirror_mode": {
    "name": "ipython",
    "version": 3
   },
   "file_extension": ".py",
   "mimetype": "text/x-python",
   "name": "python",
   "nbconvert_exporter": "python",
   "pygments_lexer": "ipython3",
   "version": "3.11.1"
  },
  "orig_nbformat": 4
 },
 "nbformat": 4,
 "nbformat_minor": 2
}
