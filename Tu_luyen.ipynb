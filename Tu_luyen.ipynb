{
 "cells": [
  {
   "cell_type": "code",
   "execution_count": 1,
   "metadata": {},
   "outputs": [
    {
     "data": {
      "text/plain": [
       "False"
      ]
     },
     "execution_count": 1,
     "metadata": {},
     "output_type": "execute_result"
    }
   ],
   "source": [
    "#Nhan dang ham\n",
    "M = [[0,1,0,1],\n",
    "     [0,0,1,0],\n",
    "     [0,0,0,1]]\n",
    "m = len(M)\n",
    "n = len(M[0])\n",
    "a = True\n",
    "\n",
    "for i in range(m):\n",
    "    s = 0\n",
    "    for j in range(n):\n",
    "        s += M[i][j]\n",
    "    a = a and (s == 1)\n",
    "a  \n"
   ]
  },
  {
   "cell_type": "code",
   "execution_count": 2,
   "metadata": {},
   "outputs": [
    {
     "data": {
      "text/plain": [
       "False"
      ]
     },
     "execution_count": 2,
     "metadata": {},
     "output_type": "execute_result"
    }
   ],
   "source": [
    "#Nhan dang don anh\n",
    "M = [[0,1,0,1],\n",
    "     [0,0,1,0],\n",
    "     [0,0,0,1]]\n",
    "m = len(M)\n",
    "n = len(M[0])\n",
    "a = True\n",
    "\n",
    "for i in range(m):\n",
    "    s = 0\n",
    "    for j in range(n):\n",
    "        s += M[i][j]\n",
    "    a = a and (s <= 1)\n",
    "a"
   ]
  },
  {
   "cell_type": "code",
   "execution_count": 3,
   "metadata": {},
   "outputs": [
    {
     "data": {
      "text/plain": [
       "True"
      ]
     },
     "execution_count": 3,
     "metadata": {},
     "output_type": "execute_result"
    }
   ],
   "source": [
    "#Nhan dang toan anh \n",
    "M = [[0,1,0,1],\n",
    "     [0,0,1,0],\n",
    "     [0,0,0,1]]\n",
    "m = len(M)\n",
    "n = len(M[0])\n",
    "a = True\n",
    "\n",
    "for i in range(m):\n",
    "    s = 0\n",
    "    for j in range(n):\n",
    "        s += M[i][j]\n",
    "    a = a and (s >= 1)\n",
    "a"
   ]
  },
  {
   "cell_type": "code",
   "execution_count": 4,
   "metadata": {},
   "outputs": [
    {
     "data": {
      "text/plain": [
       "True"
      ]
     },
     "execution_count": 4,
     "metadata": {},
     "output_type": "execute_result"
    }
   ],
   "source": [
    "# tinh phan xa\n",
    "M = [[1,0,0,0],\n",
    "     [0,1,0,0],\n",
    "     [0,0,1,1],\n",
    "     [0,1,0,1]]\n",
    "n = len(M)\n",
    "a = True\n",
    "\n",
    "for i in range(n):\n",
    "    a = a and (M[i][i] == 1)\n",
    "a"
   ]
  },
  {
   "cell_type": "code",
   "execution_count": 5,
   "metadata": {},
   "outputs": [
    {
     "data": {
      "text/plain": [
       "True"
      ]
     },
     "execution_count": 5,
     "metadata": {},
     "output_type": "execute_result"
    }
   ],
   "source": [
    "#tinh dx\n",
    "M = [[0,1,1,0],\n",
    "     [1,0,0,1],\n",
    "     [1,0,0,0],\n",
    "     [0,1,0,0]]\n",
    "n = len(M)\n",
    "a = True\n",
    "\n",
    "for i in range(n):\n",
    "    for j in range(n):\n",
    "        a = a and (M[i][j] == M[j][i])\n",
    "a"
   ]
  },
  {
   "cell_type": "code",
   "execution_count": 6,
   "metadata": {},
   "outputs": [
    {
     "data": {
      "text/plain": [
       "False"
      ]
     },
     "execution_count": 6,
     "metadata": {},
     "output_type": "execute_result"
    }
   ],
   "source": [
    "#tinh phan xung\n",
    "M = [[0,1,1,0],\n",
    "     [1,0,0,1],\n",
    "     [1,0,0,0],\n",
    "     [0,1,0,0]]\n",
    "n = len(M)\n",
    "a = True\n",
    "\n",
    "for i in range(n):\n",
    "    for j in range(m):\n",
    "        a = a and(i == j or M[i][j] == 0 or M[j][i] == 0)\n",
    "a"
   ]
  },
  {
   "cell_type": "code",
   "execution_count": 1,
   "metadata": {},
   "outputs": [
    {
     "name": "stdout",
     "output_type": "stream",
     "text": [
      "15\n"
     ]
    }
   ],
   "source": [
    "def counts(target):\n",
    "    count = 0\n",
    "    for x1 in range(target + 1):\n",
    "        for x2 in range(target + 1 - x1):\n",
    "            x3 = target + 1 - x1 - x2\n",
    "            count+=1\n",
    "    return count\n",
    "target = 4\n",
    "result = counts(4)\n",
    "print(result)"
   ]
  },
  {
   "cell_type": "markdown",
   "metadata": {},
   "source": []
  }
 ],
 "metadata": {
  "kernelspec": {
   "display_name": "Python 3",
   "language": "python",
   "name": "python3"
  },
  "language_info": {
   "codemirror_mode": {
    "name": "ipython",
    "version": 3
   },
   "file_extension": ".py",
   "mimetype": "text/x-python",
   "name": "python",
   "nbconvert_exporter": "python",
   "pygments_lexer": "ipython3",
   "version": "3.11.5"
  },
  "orig_nbformat": 4
 },
 "nbformat": 4,
 "nbformat_minor": 2
}
