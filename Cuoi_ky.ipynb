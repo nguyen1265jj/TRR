{
 "cells": [
  {
   "cell_type": "code",
   "execution_count": 9,
   "metadata": {},
   "outputs": [
    {
     "data": {
      "text/plain": [
       "True"
      ]
     },
     "execution_count": 9,
     "metadata": {},
     "output_type": "execute_result"
    }
   ],
   "source": [
    "#Nhận dạng hàm \n",
    "#Mỗi thành phần của B xuất hiện đúng 1 lần ở thành phần thứ 2\n",
    "M = [[0,1,0,0],\n",
    "     [0,0,1,0],\n",
    "     [0,0,0,1]]\n",
    "m = len(M)\n",
    "n = len(M[0])\n",
    "a = True\n",
    "\n",
    "for i in range(m):\n",
    "    s = 0\n",
    "    for j in range(n):\n",
    "        s += M[i][j]\n",
    "    a = a and (s == 1)\n",
    "a\n"
   ]
  },
  {
   "cell_type": "code",
   "execution_count": 10,
   "metadata": {},
   "outputs": [
    {
     "data": {
      "text/plain": [
       "True"
      ]
     },
     "execution_count": 10,
     "metadata": {},
     "output_type": "execute_result"
    }
   ],
   "source": [
    "#Nhan dang don anh\n",
    "#Mỗi phần tử của B xuất hiện không quá 1 lần ở thành phần thứ 2 \n",
    "M = [[0,0,0,0],\n",
    "     [0,1,0,0],\n",
    "     [0,0,1,0],\n",
    "     [0,0,0,1]]\n",
    "m = len(M)\n",
    "n = len(M[0])\n",
    "a = True\n",
    "\n",
    "for i in range(m):\n",
    "    s = 0\n",
    "    for j in range(n):\n",
    "        s+=M[i][j]\n",
    "    a = a and (s <= 1)\n",
    "a "
   ]
  },
  {
   "cell_type": "code",
   "execution_count": 11,
   "metadata": {},
   "outputs": [
    {
     "data": {
      "text/plain": [
       "True"
      ]
     },
     "execution_count": 11,
     "metadata": {},
     "output_type": "execute_result"
    }
   ],
   "source": [
    "#Nhan dang toan anh \n",
    "#Mỗi thành phần của B xuất hiện ít nhất một lần tại thành phần thứ 2 \n",
    "M = [[0,0,1,0],\n",
    "     [1,1,1,1],\n",
    "     [1,0,1,1],\n",
    "     [0,0,1,1]]\n",
    "m = len(M)\n",
    "n = len(M[0])\n",
    "a = True\n",
    "\n",
    "for i in range(m):\n",
    "    s = 0\n",
    "    for j in range(n):\n",
    "        s+=M[i][j]\n",
    "    a = a and (s >= 1)\n",
    "a"
   ]
  },
  {
   "cell_type": "code",
   "execution_count": 13,
   "metadata": {},
   "outputs": [],
   "source": [
    "M = [ [ 1 , 1 , 0 , 0 ]\n",
    "     ,[ 0 , 1 , 1 , 1 ]\n",
    "     ,[ 1 , 0 , 1 , 0 ]\n",
    "     ,[ 0 , 0 , 0 , 1 ]]"
   ]
  },
  {
   "cell_type": "code",
   "execution_count": 12,
   "metadata": {},
   "outputs": [],
   "source": [
    "#Kiểm tra tính phản xạ\n",
    "n = len(M)\n",
    "a = True\n",
    "for i in range(n):\n",
    "    a = a and M[i][i] == 1\n",
    "a"
   ]
  },
  {
   "cell_type": "code",
   "execution_count": 14,
   "metadata": {},
   "outputs": [
    {
     "data": {
      "text/plain": [
       "False"
      ]
     },
     "execution_count": 14,
     "metadata": {},
     "output_type": "execute_result"
    }
   ],
   "source": [
    "#Kiểm tra tính đối xứng \n",
    "n = len(M)\n",
    "b = True\n",
    "for i in range(n):\n",
    "    for j in range(n):\n",
    "        b = b and ( M[i][j] == M[j][i] )\n",
    "b"
   ]
  },
  {
   "cell_type": "code",
   "execution_count": 16,
   "metadata": {},
   "outputs": [
    {
     "data": {
      "text/plain": [
       "True"
      ]
     },
     "execution_count": 16,
     "metadata": {},
     "output_type": "execute_result"
    }
   ],
   "source": [
    "#Kiểm tra tính phản xứng \n",
    "n = len(M)\n",
    "b = True\n",
    "\n",
    "for i in range(n):\n",
    "    for j in range(n):\n",
    "        b = b and ( i == j or M[i][j] == 0 or M[j][i] == 0 )\n",
    "b"
   ]
  },
  {
   "cell_type": "code",
   "execution_count": 18,
   "metadata": {},
   "outputs": [
    {
     "name": "stdout",
     "output_type": "stream",
     "text": [
      "Nghiệm 1: x1 = 0, x2 = 0, x3 = 4\n",
      "Nghiệm 2: x1 = 0, x2 = 1, x3 = 3\n",
      "Nghiệm 3: x1 = 0, x2 = 2, x3 = 2\n",
      "Nghiệm 4: x1 = 0, x2 = 3, x3 = 1\n",
      "Nghiệm 5: x1 = 0, x2 = 4, x3 = 0\n",
      "Nghiệm 6: x1 = 1, x2 = 0, x3 = 3\n",
      "Nghiệm 7: x1 = 1, x2 = 1, x3 = 2\n",
      "Nghiệm 8: x1 = 1, x2 = 2, x3 = 1\n",
      "Nghiệm 9: x1 = 1, x2 = 3, x3 = 0\n",
      "Nghiệm 10: x1 = 2, x2 = 0, x3 = 2\n",
      "Nghiệm 11: x1 = 2, x2 = 1, x3 = 1\n",
      "Nghiệm 12: x1 = 2, x2 = 2, x3 = 0\n",
      "Nghiệm 13: x1 = 3, x2 = 0, x3 = 1\n",
      "Nghiệm 14: x1 = 3, x2 = 1, x3 = 0\n",
      "Nghiệm 15: x1 = 4, x2 = 0, x3 = 0\n",
      "Tổng số nghiệm nguyên không âm của x1 + x2 + x3 = 4 là 15.\n"
     ]
    }
   ],
   "source": [
    "def count_integer_solutions(target_sum):\n",
    "    count = 0\n",
    "    for x1 in range(target_sum + 1):\n",
    "        for x2 in range(target_sum + 1 - x1):\n",
    "            x3 = target_sum - x1 - x2\n",
    "            count += 1  # Mỗi lần lặp là một nghiệm\n",
    "\n",
    "            # In ra từng nghiệm nếu bạn muốn xem chi tiết\n",
    "            print(f\"Nghiệm {count}: x1 = {x1}, x2 = {x2}, x3 = {x3}\")\n",
    "\n",
    "    return count\n",
    "\n",
    "# Gọi hàm và truyền giá trị mục tiêu là 4\n",
    "target_sum = 4\n",
    "result = count_integer_solutions(target_sum)\n",
    "\n",
    "print(f\"Tổng số nghiệm nguyên không âm của x1 + x2 + x3 = {target_sum} là {result}.\")\n"
   ]
  },
  {
   "cell_type": "code",
   "execution_count": 1,
   "metadata": {},
   "outputs": [
    {
     "data": {
      "text/plain": [
       "8"
      ]
     },
     "execution_count": 1,
     "metadata": {},
     "output_type": "execute_result"
    }
   ],
   "source": [
    "#Tinh gcd(1984,936)\n",
    "a = 1984\n",
    "b = 936\n",
    "while b != 0:\n",
    "    r = a % b\n",
    "    a = b\n",
    "    b = r\n",
    "a #Ket qua :8"
   ]
  },
  {
   "cell_type": "code",
   "execution_count": 3,
   "metadata": {},
   "outputs": [
    {
     "name": "stdout",
     "output_type": "stream",
     "text": [
      "55\n"
     ]
    }
   ],
   "source": [
    "#So Fubonacci\n",
    "def Fubonacci(n):\n",
    "    if n == 1:\n",
    "        return 1\n",
    "    if n == 0:\n",
    "        return 0\n",
    "    return Fubonacci(n - 2) + Fubonacci(n-1)\n",
    "result = Fubonacci(10)\n",
    "print(result)"
   ]
  },
  {
   "cell_type": "code",
   "execution_count": 12,
   "metadata": {},
   "outputs": [
    {
     "data": {
      "text/plain": [
       "array([[1, 1, 0, 0],\n",
       "       [0, 1, 0, 0],\n",
       "       [0, 1, 1, 0],\n",
       "       [0, 1, 0, 1]])"
      ]
     },
     "execution_count": 12,
     "metadata": {},
     "output_type": "execute_result"
    }
   ],
   "source": [
    "import numpy as np\n",
    "M1 = np.array([ [0, 1, 0, 1] ,\n",
    "                [0, 1, 0, 0] ,\n",
    "                [1, 0, 0, 0] ,\n",
    "                [0, 0, 1, 0]],dtype=bool)\n",
    "M2 = np.array([ [0, 1, 1, 0],\n",
    "                [0, 1, 0, 0],\n",
    "                [0, 1, 0, 1],\n",
    "                [1, 0, 0, 0]],dtype=bool)\n",
    "M = M1.dot(M2)\n",
    "np.array(M,dtype=int)"
   ]
  },
  {
   "cell_type": "code",
   "execution_count": 8,
   "metadata": {},
   "outputs": [
    {
     "data": {
      "text/plain": [
       "array([[0, 1, 1, 0],\n",
       "       [0, 1, 0, 0],\n",
       "       [0, 1, 0, 1],\n",
       "       [1, 0, 0, 0]])"
      ]
     },
     "execution_count": 8,
     "metadata": {},
     "output_type": "execute_result"
    }
   ],
   "source": [
    "import numpy as np\n",
    "M = np.array([  [0,1,0,1] ,\n",
    "                [0,1,0,0] ,\n",
    "                [1,0,0,0] ,\n",
    "                [0,0,1,0]],dtype=bool)\n",
    "M = M.dot(M)\n",
    "np.array(M,dtype=int)"
   ]
  },
  {
   "cell_type": "code",
   "execution_count": null,
   "metadata": {},
   "outputs": [],
   "source": [
    "#Tinh gcd(1984,936)\n",
    "a = 1984\n",
    "b = 936\n",
    "while b != 0:\n",
    "    r = a % b\n",
    "    a = b\n",
    "    b = r\n",
    "a #Ket qua :8"
   ]
  },
  {
   "cell_type": "code",
   "execution_count": 1,
   "metadata": {},
   "outputs": [
    {
     "name": "stdout",
     "output_type": "stream",
     "text": [
      "Số cách chia 8 vật thành 5 phần khác rỗng là: 1050\n"
     ]
    }
   ],
   "source": [
    "def stirling_second(n, k):\n",
    "    if n == k == 0:\n",
    "        return 1\n",
    "    elif (n > 0 and k == 0) or (n == 0 and k > 0):\n",
    "        return 0\n",
    "    else:\n",
    "        return k * stirling_second(n - 1, k) + stirling_second(n - 1, k - 1)\n",
    "\n",
    "result = stirling_second(8, 5)\n",
    "print(f\"Số cách chia 8 vật thành 5 phần khác rỗng là: {result}\")\n"
   ]
  },
  {
   "cell_type": "code",
   "execution_count": 2,
   "metadata": {},
   "outputs": [],
   "source": [
    "def generate_binary_numbers(n):\n",
    "    if n <= 0:\n",
    "        return []\n",
    "\n",
    "    binary_numbers = []\n",
    "\n",
    "    # Bắt đầu từ 0 và kết thúc với 2^n - 1\n",
    "    for i in range(2**n):\n",
    "        # Chuyển số nguyên i thành số nhị phân với độ dài n\n",
    "        binary = bin(i)[2:].zfill(n)\n",
    "        binary_numbers.append(binary)\n",
    "\n",
    "    return binary_numbers\n",
    "\n",
    "# Độ dài số nhị phân bạn muốn in ra\n",
    "n = int(input(\"Nhập độ dài của số nhị phân (n): \"))\n",
    "\n",
    "# Tạo và in ra các số nhị phân có độ dài n\n",
    "binary_numbers = generate_binary_numbers(n)\n",
    "print(\"Các số nhị phân có độ dài\", n, \"là:\")\n",
    "for binary in binary_numbers:\n",
    "    print(binary)"
   ]
  },
  {
   "cell_type": "code",
   "execution_count": null,
   "metadata": {},
   "outputs": [],
   "source": [
    "#python(3.9)\n",
    "# Tìm ước của số nguyên tố \n",
    "from sympy import factorint\n",
    "factorint(33880)"
   ]
  }
 ],
 "metadata": {
  "kernelspec": {
   "display_name": "Python 3",
   "language": "python",
   "name": "python3"
  },
  "language_info": {
   "codemirror_mode": {
    "name": "ipython",
    "version": 3
   },
   "file_extension": ".py",
   "mimetype": "text/x-python",
   "name": "python",
   "nbconvert_exporter": "python",
   "pygments_lexer": "ipython3",
   "version": "3.11.5"
  }
 },
 "nbformat": 4,
 "nbformat_minor": 2
}
